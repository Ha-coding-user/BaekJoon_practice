{
 "cells": [
  {
   "attachments": {},
   "cell_type": "markdown",
   "metadata": {},
   "source": [
    "# 9663 N-Queen"
   ]
  },
  {
   "attachments": {},
   "cell_type": "markdown",
   "metadata": {},
   "source": [
    "### Q)\n",
    "    N-Queen 문제는 크기가 N x N인 체스판 위에 퀸 N개를 서로 공격할 수 없게 놓는 문제이다.\n",
    "    N이 주어졌을 때, 퀸을 놓는 방법의 수를 구하는 프로그램을 작성하시오."
   ]
  },
  {
   "attachments": {},
   "cell_type": "markdown",
   "metadata": {},
   "source": [
    "### Input)\n",
    "    첫째 줄에 N이 주어진다. (1 <= N < 15)"
   ]
  },
  {
   "attachments": {},
   "cell_type": "markdown",
   "metadata": {},
   "source": [
    "### Output)\n",
    "    첫째 줄에 퀸 N개를 서로 공격할 수 없게 놓는 경우의 수를 출력한다."
   ]
  },
  {
   "cell_type": "code",
   "execution_count": 2,
   "metadata": {},
   "outputs": [],
   "source": [
    "from sys import stdin\n",
    "input = stdin.readline\n",
    "\n",
    "N = int(input())\n",
    "\n",
    "# col 배열의 index가 행 번호\n",
    "col = [None] * N\n",
    "\n",
    "def promising(idx):\n",
    "    for i in range(idx):\n",
    "        # 같은 열에 위치해 있거나\n",
    "        # 행간의 차와 열간의 차의 값이 같을 때(대각선에 있을 때)\n",
    "        if col[idx] == col[i] or idx - i == abs(col[idx] - col[i]):\n",
    "            return 0\n",
    "    \n",
    "    # 둘 다 해당되지 않을 때\n",
    "    return 1\n",
    "\n",
    "def nqueen(cdx):\n",
    "    global count\n",
    "\n",
    "    # cdx = N 이라는 말은 모든 말이 위치해 있다는 의미\n",
    "    if cdx == N:\n",
    "        count += 1\n",
    "        return\n",
    "    \n",
    "    for i in range(N):\n",
    "        col[cdx] = i # 일단 cdx 행 i 열에 놓아보고\n",
    "        if promising(cdx): # 유망하다면\n",
    "            nqueen(cdx+1) # 다음 행에 위치할 말을 놓는다\n",
    "\n",
    "count = 0\n",
    "nqueen(0)\n",
    "print(count)"
   ]
  },
  {
   "attachments": {
    "image.png": {
     "image/png": "[encoded data removed]"
    }
   },
   "cell_type": "markdown",
   "metadata": {},
   "source": [
    "2차원 배열이 필요할 것으로 생각할 수 있지만...\n",
    "잘 생각해보면 각 열에 Queen은 1개만 올 수 있다.\n",
    "즉, 2차원 배열을 1차원으로 생각할 수 있다.\n",
    "\n",
    "예를 들면,\n",
    "\n",
    "![image.png](attachment:image.png)\n",
    "\n",
    "이 경우는 배열을 다음과 같이 얘기할 수 있다.\n",
    "\n",
    "[2, 0, 3, 1]\n",
    "\n",
    "이 때 이 배열에 중복된 숫자가 있으면 안되고,\n",
    "행간의 차가 열간의 차와 같은 것이 존재하면 안된다."
   ]
  }
 ],
 "metadata": {
  "kernelspec": {
   "display_name": "base",
   "language": "python",
   "name": "python3"
  },
  "language_info": {
   "codemirror_mode": {
    "name": "ipython",
    "version": 3
   },
   "file_extension": ".py",
   "mimetype": "text/x-python",
   "name": "python",
   "nbconvert_exporter": "python",
   "pygments_lexer": "ipython3",
   "version": "3.9.13"
  },
  "orig_nbformat": 4
 },
 "nbformat": 4,
 "nbformat_minor": 2
}
