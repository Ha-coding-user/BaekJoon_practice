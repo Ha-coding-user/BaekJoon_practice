{
 "cells": [
  {
   "attachments": {},
   "cell_type": "markdown",
   "metadata": {},
   "source": [
    "# 14889 스타트와 링크 ★"
   ]
  },
  {
   "attachments": {
    "image.png": {
     "image/png": "[encoded data removed]"
    }
   },
   "cell_type": "markdown",
   "metadata": {},
   "source": [
    "### Q)\n",
    "    오늘은 스타트링크에 다니는 사람들이 모여서 축구를 해보려고 한다. 축구는 평일 오후에 하고 의무 참석도 아니다. 축구를 하기 위해 모인 사람은 총 N명이고 신기하게도 N은 짝수이다. 이제 N/2명으로 이루어진 스타트 팀과 링크 팀으로 사람들을 나눠야 한다.\n",
    "\n",
    "    BOJ를 운영하는 회사 답게 사람에게 번호를 1부터 N까지로 배정했고, 아래와 같은 능력치를 조사했다. 능력치 Sij는 i번 사람과 j번 사람이 같은 팀에 속했을 때, 팀에 더해지는 능력치이다. 팀의 능력치는 팀에 속한 모든 쌍의 능력치 Sij의 합이다. Sij는 Sji와 다를 수도 있으며, i번 사람과 j번 사람이 같은 팀에 속했을 때, 팀에 더해지는 능력치는 Sij와 Sji이다.\n",
    "\n",
    "    N=4이고, S가 아래와 같은 경우를 살펴보자.\n",
    "\n",
    "![image.png](attachment:image.png)\n",
    "\n",
    "    예를 들어, 1, 2번이 스타트 팀, 3, 4번이 링크 팀에 속한 경우에 두 팀의 능력치는 아래와 같다.\n",
    "\n",
    "- 스타트 팀: S12 + S21 = 1 + 4 = 5\n",
    "- 링크 팀: S34 + S43 = 2 + 5 = 7\n",
    "\n",
    "    1, 3번이 스타트 팀, 2, 4번이 링크 팀에 속하면, 두 팀의 능력치는 아래와 같다.\n",
    "\n",
    "- 스타트 팀: S13 + S31 = 2 + 7 = 9\n",
    "- 링크 팀: S24 + S42 = 6 + 4 = 10\n",
    "\n",
    "    축구를 재미있게 하기 위해서 스타트 팀의 능력치와 링크 팀의 능력치의 차이를 최소로 하려고 한다. 위의 예제와 같은 경우에는 1, 4번이 스타트 팀, 2, 3번 팀이 링크 팀에 속하면 스타트 팀의 능력치는 6, 링크 팀의 능력치는 6이 되어서 차이가 0이 되고 이 값이 최소이다."
   ]
  },
  {
   "attachments": {},
   "cell_type": "markdown",
   "metadata": {},
   "source": [
    "### Input)\n",
    "    첫째 줄에 N(4 ≤ N ≤ 20, N은 짝수)이 주어진다. 둘째 줄부터 N개의 줄에 S가 주어진다. 각 줄은 N개의 수로 이루어져 있고, i번 줄의 j번째 수는 Sij 이다. Sii는 항상 0이고, 나머지 Sij는 1보다 크거나 같고, 100보다 작거나 같은 정수이다."
   ]
  },
  {
   "attachments": {},
   "cell_type": "markdown",
   "metadata": {},
   "source": [
    "### Output)\n",
    "    첫째 줄에 스타트 팀과 링크 팀의 능력치의 차이의 최솟값을 출력한다."
   ]
  },
  {
   "attachments": {},
   "cell_type": "markdown",
   "metadata": {},
   "source": [
    "### Source Code)"
   ]
  },
  {
   "cell_type": "code",
   "execution_count": null,
   "metadata": {},
   "outputs": [],
   "source": [
    "from sys import stdin\n",
    "input = stdin.readline\n",
    "\n",
    "stats = []\n",
    "result_list = []\n",
    "\n",
    "N = int(input())\n",
    "for i in range(N):\n",
    "    stats.append(list(map(int, input().split())))\n",
    "\n",
    "def calc_result(start, link):\n",
    "    start_result = 0\n",
    "    link_result = 0\n",
    "    for i in range(len(start)):\n",
    "        for j in range(len(start)):\n",
    "            if i == j:\n",
    "                continue\n",
    "\n",
    "            start_result += stats[start[i]][start[j]]\n",
    "            link_result += stats[link[i]][link[j]]\n",
    "\n",
    "    return abs(start_result - link_result)\n",
    "\n",
    "def dfs(idx):\n",
    "    global start_team\n",
    "\n",
    "    if idx == N//2:\n",
    "        link_team = []\n",
    "        for i in range(N):\n",
    "            if i not in start_team:\n",
    "                link_team.append(i)\n",
    "\n",
    "        result_list.append(calc_result(start_team, link_team))\n",
    "        return\n",
    "    \n",
    "    for i in range(N):\n",
    "        if i not in start_team:\n",
    "            start_team.append(i)\n",
    "            dfs(idx+1)\n",
    "            start_team = start_team[:idx]\n",
    "\n",
    "start_team = [1]\n",
    "dfs(1)\n",
    "\n",
    "print(min(result_list))"
   ]
  },
  {
   "attachments": {},
   "cell_type": "markdown",
   "metadata": {},
   "source": [
    "위와 같이 코드를 짰을 땐 시간초과가 발생했다.\n",
    "이유는 다음과 같을 것으로 생각한다.\n",
    "- 팀명만 바뀌고 팀 구성원은 같은 경우가 발생함 -> 이는 고려해 줄 필요가 없음\n",
    "- 이를 줄이기 위해 start_team에 항상 1을 포함하게 짰지만 그래도 시간초과 발생"
   ]
  },
  {
   "attachments": {},
   "cell_type": "markdown",
   "metadata": {},
   "source": [
    "### combinations 사용한 Source Code)"
   ]
  },
  {
   "cell_type": "code",
   "execution_count": null,
   "metadata": {},
   "outputs": [],
   "source": [
    "from sys import stdin, maxsize # maxsize는 비교할 변수를 생성하는 것\n",
    "from itertools import combinations\n",
    "input = stdin.readline\n",
    "\n",
    "N = int(input())\n",
    "stats = [list(map(int, input.split())) for _ in range(N)]\n",
    "members = list(range(N))\n",
    "min_value = maxsize\n",
    "\n",
    "for r1 in combinations(members, N//2):\n",
    "    start, link = 0, 0\n",
    "    r2 = list(set(members) - set(r1)) # set을 이용해 중복되는 경우 제거\n",
    "    for r in combinations(r1, 2):\n",
    "        start += (stats[r[0]][r[1]] + stats[r[1]][r[0]])\n",
    "    for r in combinations(r2, 2):\n",
    "        link += (stats[r[0][r[1]]] + stats[r[1]][r[0]])\n",
    "\n",
    "    min_value = min(min_value, abs(start-link))\n",
    "\n",
    "print(min_value)"
   ]
  },
  {
   "attachments": {},
   "cell_type": "markdown",
   "metadata": {},
   "source": [
    "위 코드는 결과는 잘 나오지만 런타임 에러가 발생하였다(Attribute Error)"
   ]
  },
  {
   "attachments": {},
   "cell_type": "markdown",
   "metadata": {},
   "source": [
    "### back tracking을 이용한 Source Code)"
   ]
  },
  {
   "cell_type": "code",
   "execution_count": null,
   "metadata": {},
   "outputs": [],
   "source": [
    "from sys import stdin, maxsize # maxsize는 비교할 변수를 생성하는 것\n",
    "input = stdin.readline\n",
    "\n",
    "N = int(input())\n",
    "graph = [list(map(int, input().split())) for _ in range(N)]\n",
    "visit = [False for _ in range(N)]\n",
    "min_value = maxsize\n",
    "\n",
    "def dfs(depth, idx):\n",
    "    global min_value\n",
    "    if depth == N//2:\n",
    "        power1, power2 = 0, 0\n",
    "        for i in range(N):\n",
    "            for j in range(N):\n",
    "                if visit[i] and visit[j]:\n",
    "                    power1 += graph[i][j]\n",
    "                elif not visit[i] and not visit[j]:\n",
    "                    power2 += graph[i][j]\n",
    "        min_value = min(min_value, abs(power1-power2))\n",
    "\n",
    "    for i in range(idx, N):\n",
    "        if not visit[i]:\n",
    "            visit[i] = True\n",
    "            dfs(depth+1, i+1) # idx 가 아닌 i로 처리해야함 idx로 하면 시간초과\n",
    "            visit[i] = False\n",
    "\n",
    "dfs(0, 0)\n",
    "print(min_value)"
   ]
  },
  {
   "attachments": {},
   "cell_type": "markdown",
   "metadata": {},
   "source": [
    "처음에 한 back tracking과 알고리즘 적으로는 비슷하지만 시간초과를 하는 방법이 조금 달랐다.\n",
    "\n",
    "1. visit이라는 리스트 변수를 통해 방문했는지 안했는지를 체크하였음\n",
    "2. depth를 통해 현재 몇 명까지 들어갔는지 파악하였고, idx를 통해 중복되는 경우를 제거하려 하였음(이 부분이 조금 달랐다.) <- 맞는지 잘 모르겠음...\n",
    "3. depth가 N//2 인 경우는 결과를 계산해 차를 계산해주면 됨\n",
    "4. for문을 통해 현재 받은 idx부터 N까지만 계산을 하면 됨"
   ]
  }
 ],
 "metadata": {
  "language_info": {
   "name": "python"
  },
  "orig_nbformat": 4
 },
 "nbformat": 4,
 "nbformat_minor": 2
}
