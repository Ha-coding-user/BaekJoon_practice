{
 "cells": [
  {
   "attachments": {},
   "cell_type": "markdown",
   "metadata": {},
   "source": [
    "# 14888 연산자 끼워넣기"
   ]
  },
  {
   "attachments": {},
   "cell_type": "markdown",
   "metadata": {},
   "source": [
    "### Q)\n",
    "    N개의 수로 이루어진 수열 A1, A2, ..., AN이 주어진다. 또, 수와 수 사이에 끼워넣을 수 있는 N-1개의 연산자가 주어진다. 연산자는 덧셈(+), 뺄셈(-), 곱셈(×), 나눗셈(÷)으로만 이루어져 있다.\n",
    "\n",
    "    우리는 수와 수 사이에 연산자를 하나씩 넣어서, 수식을 하나 만들 수 있다. 이때, 주어진 수의 순서를 바꾸면 안 된다.\n",
    "\n",
    "    예를 들어, 6개의 수로 이루어진 수열이 1, 2, 3, 4, 5, 6이고, 주어진 연산자가 덧셈(+) 2개, 뺄셈(-) 1개, 곱셈(×) 1개, 나눗셈(÷) 1개인 경우에는 총 60가지의 식을 만들 수 있다. 예를 들어, 아래와 같은 식을 만들 수 있다.\n",
    "\n",
    "- 1+2+3-4×5÷6\n",
    "- 1÷2+3+4-5×6\n",
    "- 1+2÷3×4-5+6\n",
    "- 1÷2×3-4+5+6\n",
    "\n",
    "    식의 계산은 연산자 우선 순위를 무시하고 앞에서부터 진행해야 한다. 또, 나눗셈은 정수 나눗셈으로 몫만 취한다. 음수를 양수로 나눌 때는 C++14의 기준을 따른다. 즉, 양수로 바꾼 뒤 몫을 취하고, 그 몫을 음수로 바꾼 것과 같다. 이에 따라서, 위의 식 4개의 결과를 계산해보면 아래와 같다.\n",
    "\n",
    "- 1+2+3-4×5÷6 = 1\n",
    "- 1÷2+3+4-5×6 = 12\n",
    "- 1+2÷3×4-5+6 = 5\n",
    "- 1÷2×3-4+5+6 = 7\n",
    "\n",
    "    N개의 수와 N-1개의 연산자가 주어졌을 때, 만들 수 있는 식의 결과가 최대인 것과 최소인 것을 구하는 프로그램을 작성하시오."
   ]
  },
  {
   "attachments": {},
   "cell_type": "markdown",
   "metadata": {},
   "source": [
    "### Input)\n",
    "    첫째 줄에 수의 개수 N(2 ≤ N ≤ 11)가 주어진다. 둘째 줄에는 A1, A2, ..., AN이 주어진다. (1 ≤ Ai ≤ 100) 셋째 줄에는 합이 N-1인 4개의 정수가 주어지는데, 차례대로 덧셈(+)의 개수, 뺄셈(-)의 개수, 곱셈(×)의 개수, 나눗셈(÷)의 개수이다."
   ]
  },
  {
   "attachments": {},
   "cell_type": "markdown",
   "metadata": {},
   "source": [
    "### Output)\n",
    "    첫째 줄에 만들 수 있는 식의 결과의 최댓값을, 둘째 줄에는 최솟값을 출력한다. 연산자를 어떻게 끼워넣어도 항상 -10억보다 크거나 같고, 10억보다 작거나 같은 결과가 나오는 입력만 주어진다. 또한, 앞에서부터 계산했을 때, 중간에 계산되는 식의 결과도 항상 -10억보다 크거나 같고, 10억보다 작거나 같다.\n",
    "\n"
   ]
  },
  {
   "attachments": {},
   "cell_type": "markdown",
   "metadata": {},
   "source": [
    "### Source Code)"
   ]
  },
  {
   "cell_type": "code",
   "execution_count": null,
   "metadata": {
    "vscode": {
     "languageId": "plaintext"
    }
   },
   "outputs": [],
   "source": [
    "from sys import stdin\n",
    "input = stdin.readline\n",
    "\n",
    "N = int(input())\n",
    "num_list = list(map(int, input().split()))\n",
    "operand_list = list(map(int, input().split()))\n",
    "\n",
    "result_list = []\n",
    "\n",
    "def dfs(idx):\n",
    "    global result\n",
    "    temp = result\n",
    "\n",
    "    if idx == N-1:\n",
    "        result_list.append(result)\n",
    "        return\n",
    "    \n",
    "    for i in range(4):\n",
    "        if i == 0 and operand_list[i] != 0:\n",
    "            result += num_list[idx+1]\n",
    "            operand_list[i] -= 1\n",
    "        elif i == 1 and operand_list[i] != 0:\n",
    "            result -= num_list[idx+1]\n",
    "            operand_list[i] -= 1\n",
    "        elif i == 2 and operand_list[i] != 0:\n",
    "            result *= num_list[idx+1]\n",
    "            operand_list[i] -= 1\n",
    "        elif i == 3 and operand_list[i] != 0:\n",
    "            if result < 0 and num_list[idx+1] > 0:\n",
    "                result *= (-1)\n",
    "                result //= num_list[idx+1]\n",
    "                result *= (-1)\n",
    "            else:\n",
    "                result //= num_list[idx+1]\n",
    "            \n",
    "            operand_list [i] -= 1\n",
    "        else:\n",
    "            continue\n",
    "\n",
    "        dfs(idx+1)\n",
    "        result = temp\n",
    "        operand_list[i] += 1\n",
    "\n",
    "\n",
    "\n",
    "result = num_list[0]\n",
    "dfs(0)\n",
    "print(max(result_list))\n",
    "print(min(result_list))"
   ]
  },
  {
   "attachments": {},
   "cell_type": "markdown",
   "metadata": {},
   "source": [
    "1. result_list 라는 리스트를 만들어 나중에 계산한 모든 결과를 여기에 담아둔다.\n",
    "2. idx는 현재 사용한 operand의 수라고 생각하면 쉽다.\n",
    "3. 만약 이 idx 값이 N-1 이 된다면 모든 operand를 다 썼다는 의미이므로 지금까지 계산된 결과를 result_list에 저장하고 다시 돌아간다.\n",
    "4. 돌아가서는 다시 operand의 수와 결과를 이전에 정보로 되돌려야 한다.\n",
    "5. 모든 back tracking이 끝나고 나서는 result_list에서 최대, 최소를 출력하면 된다."
   ]
  },
  {
   "attachments": {},
   "cell_type": "markdown",
   "metadata": {},
   "source": []
  }
 ],
 "metadata": {
  "language_info": {
   "name": "python"
  },
  "orig_nbformat": 4
 },
 "nbformat": 4,
 "nbformat_minor": 2
}
