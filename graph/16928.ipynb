{
 "cells": [
  {
   "cell_type": "markdown",
   "metadata": {},
   "source": [
    "# 16928 뱀과 사다리 게임\n",
    "다른 블로그 참조 : X"
   ]
  },
  {
   "cell_type": "markdown",
   "metadata": {},
   "source": [
    "### Q)\n",
    "뱀과 사다리 게임을 즐겨 하는 큐브러버는 어느 날 궁금한 점이 생겼다.\n",
    "\n",
    "주사위를 조작해 내가 원하는 수가 나오게 만들 수 있다면, 최소 몇 번만에 도착점에 도착할 수 있을까?\n",
    "\n",
    "게임은 정육면체 주사위를 사용하며, 주사위의 각 면에는 1부터 6까지 수가 하나씩 적혀있다. 게임은 크기가 10×10이고, 총 100개의 칸으로 나누어져 있는 보드판에서 진행된다. 보드판에는 1부터 100까지 수가 하나씩 순서대로 적혀져 있다.\n",
    "\n",
    "플레이어는 주사위를 굴려 나온 수만큼 이동해야 한다. 예를 들어, 플레이어가 i번 칸에 있고, 주사위를 굴려 나온 수가 4라면, i+4번 칸으로 이동해야 한다. 만약 주사위를 굴린 결과가 100번 칸을 넘어간다면 이동할 수 없다. 도착한 칸이 사다리면, 사다리를 타고 위로 올라간다. 뱀이 있는 칸에 도착하면, 뱀을 따라서 내려가게 된다. 즉, 사다리를 이용해 이동한 칸의 번호는 원래 있던 칸의 번호보다 크고, 뱀을 이용해 이동한 칸의 번호는 원래 있던 칸의 번호보다 작아진다.\n",
    "\n",
    "게임의 목표는 1번 칸에서 시작해서 100번 칸에 도착하는 것이다.\n",
    "\n",
    "게임판의 상태가 주어졌을 때, 100번 칸에 도착하기 위해 주사위를 굴려야 하는 횟수의 최솟값을 구해보자."
   ]
  },
  {
   "cell_type": "markdown",
   "metadata": {},
   "source": [
    "### Input)\n",
    "첫째 줄에 게임판에 있는 사다리의 수 N(1 ≤ N ≤ 15)과 뱀의 수 M(1 ≤ M ≤ 15)이 주어진다.\n",
    "\n",
    "둘째 줄부터 N개의 줄에는 사다리의 정보를 의미하는 x, y (x < y)가 주어진다. x번 칸에 도착하면, y번 칸으로 이동한다는 의미이다.\n",
    "\n",
    "다음 M개의 줄에는 뱀의 정보를 의미하는 u, v (u > v)가 주어진다. u번 칸에 도착하면, v번 칸으로 이동한다는 의미이다.\n",
    "\n",
    "1번 칸과 100번 칸은 뱀과 사다리의 시작 또는 끝이 아니다. 모든 칸은 최대 하나의 사다리 또는 뱀을 가지고 있으며, 동시에 두 가지를 모두 가지고 있는 경우는 없다. 항상 100번 칸에 도착할 수 있는 입력만 주어진다."
   ]
  },
  {
   "cell_type": "markdown",
   "metadata": {},
   "source": [
    "### Output)\n",
    "100번 칸에 도착하기 위해 주사위를 최소 몇 번 굴려야 하는지 출력한다."
   ]
  },
  {
   "cell_type": "markdown",
   "metadata": {},
   "source": [
    "### Source Code)"
   ]
  },
  {
   "cell_type": "code",
   "execution_count": null,
   "metadata": {},
   "outputs": [],
   "source": [
    "from sys import stdin\n",
    "from collections import deque\n",
    "input = stdin.readline\n",
    "\n",
    "N, M = map(int, input().split())\n",
    "edge = {} # 1\n",
    "for _ in range(N):\n",
    "    a, b = map(int, input().split())\n",
    "    edge[a] = b\n",
    "\n",
    "for _ in range(M):\n",
    "    a, b = map(int, input().split())\n",
    "    edge[a] = b\n",
    "\n",
    "graph = [0] * 101 # 2\n",
    "\n",
    "queue = deque([])\n",
    "queue.append(1)\n",
    "\n",
    "def BFS():\n",
    "    while queue and graph[100] == 0:\n",
    "        now = queue.popleft()\n",
    "        for i in range(1, 7):\n",
    "            next = now + i\n",
    "            # keypoint <- 3\n",
    "            # 만약 사다리나 뱀으로 연결되어 있다면 next를\n",
    "            # 연결되어 있는 것으로 바꾸어 주어야 함\n",
    "            if next in edge.keys():\n",
    "                next = edge[next]\n",
    "\n",
    "            if next <= 100 and graph[next] == 0:\n",
    "                graph[next] = graph[now] + 1\n",
    "                queue.append(next)\n",
    "\n",
    "BFS()\n",
    "print(graph[100])\n"
   ]
  },
  {
   "cell_type": "markdown",
   "metadata": {},
   "source": [
    "마찬가지로 1에서 출발해 100까지 도달하기 위해 던져야 하는 주사위의 최솟값을 구하는 것이므로 BFS를 이용해 문제를 해결하였다.\n",
    "\n",
    "1. edge는 사다리와 뱀에 관련된 정보를 저장해두었다. key는 시작점, value는 끝점이다.\n",
    "2. graph는 해당 idx까지 오기위해 던진 주사위의 횟수를 의미한다.\n",
    "3. keypoint로 주석을 달아 두었는데 의미하는 바는 만약 다음 지점이 사다리나 뱀이 있다면 그 연결된 끝점으로 next를 변경해주어야 한다."
   ]
  }
 ],
 "metadata": {
  "language_info": {
   "name": "python"
  },
  "orig_nbformat": 4
 },
 "nbformat": 4,
 "nbformat_minor": 2
}
