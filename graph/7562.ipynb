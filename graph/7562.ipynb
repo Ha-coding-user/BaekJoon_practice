{
 "cells": [
  {
   "cell_type": "markdown",
   "metadata": {},
   "source": [
    "# 7562 나이트의 이동\n",
    "다른 블로그 참조 : X"
   ]
  },
  {
   "attachments": {
    "image.png": {
     "image/png": "[encoded data removed]"
    }
   },
   "cell_type": "markdown",
   "metadata": {},
   "source": [
    "### Q)\n",
    "체스판 위에 한 나이트가 놓여져 있다. 나이트가 한 번에 이동할 수 있는 칸은 아래 그림에 나와있다. 나이트가 이동하려고 하는 칸이 주어진다. 나이트는 몇 번 움직이면 이 칸으로 이동할 수 있을까?\n",
    "\n",
    "![image.png](attachment:image.png)"
   ]
  },
  {
   "cell_type": "markdown",
   "metadata": {},
   "source": [
    "### Input)\n",
    "입력의 첫째 줄에는 테스트 케이스의 개수가 주어진다.\n",
    "\n",
    "각 테스트 케이스는 세 줄로 이루어져 있다. 첫째 줄에는 체스판의 한 변의 길이 l(4 ≤ l ≤ 300)이 주어진다. 체스판의 크기는 l × l이다. 체스판의 각 칸은 두 수의 쌍 {0, ..., l-1} × {0, ..., l-1}로 나타낼 수 있다. 둘째 줄과 셋째 줄에는 나이트가 현재 있는 칸, 나이트가 이동하려고 하는 칸이 주어진다."
   ]
  },
  {
   "cell_type": "markdown",
   "metadata": {},
   "source": [
    "### Output)\n",
    "각 테스트 케이스마다 나이트가 최소 몇 번만에 이동할 수 있는지 출력한다."
   ]
  },
  {
   "cell_type": "markdown",
   "metadata": {},
   "source": [
    "### Source Code)"
   ]
  },
  {
   "cell_type": "code",
   "execution_count": null,
   "metadata": {},
   "outputs": [],
   "source": [
    "from sys import stdin\n",
    "input = stdin.readline\n",
    "\n",
    "# 1.\n",
    "dx = [1, 2, 2, 1, -1, -2, -2, -1]\n",
    "dy = [2, 1, -1, -2, -2, -1, 1, 2]\n",
    "\n",
    "# 2.\n",
    "def BFS(graph, start, end):\n",
    "    start_x, start_y = start\n",
    "    I = len(graph)\n",
    "\n",
    "    queue = []\n",
    "    queue.append((start_x, start_y))\n",
    "\n",
    "    while queue:\n",
    "        now = queue.pop(0)\n",
    "        now_x, now_y = now\n",
    "\n",
    "        if now_x == end[0] and now_y == end[1]:\n",
    "            print(graph[now_x][now_y])\n",
    "            break\n",
    "\n",
    "        for i in range(8):\n",
    "            next_x = now_x + dx[i]\n",
    "            next_y = now_y + dy[i]\n",
    "            if 0 <= next_x < I and 0 <= next_y < I and graph[next_x][next_y] == 0:\n",
    "                graph[next_x][next_y] = graph[now_x][now_y] + 1\n",
    "                queue.append((next_x, next_y))\n",
    "\n",
    "T = int(input())\n",
    "\n",
    "for _ in range(T):\n",
    "    I = int(input())\n",
    "    graph = [[0 for _ in range(I)] for _ in range(I)] # 3.\n",
    "    start = list(map(int, input().split()))\n",
    "    end = list(map(int, input().split()))\n",
    "    BFS(graph, start, end)\n",
    "\n"
   ]
  },
  {
   "cell_type": "markdown",
   "metadata": {},
   "source": [
    "1. dx, dy 를 둔 이유는 나이트가 이동할 수 있는 모든 경우를 나타내기 위해서 저장해두었다.\n",
    "2. BFS 함수를 구현한 모습이다. => 다른 BFS 알고리즘과 동일하므로 자세한 설명은 생략한다.\n",
    "3. graph는 체스판과 같은 크기이고 0으로 채운 리스트이다. 나이트가 다음 위치로 올라가게 되면 그 전의 위치의 값에서 +1을한다.\n",
    "\n",
    "BFS reference\n",
    "\n",
    "https://github.com/Ha-coding-user/BaekJoon_practice/blob/main/graph/24444.ipynb"
   ]
  }
 ],
 "metadata": {
  "language_info": {
   "name": "python"
  },
  "orig_nbformat": 4
 },
 "nbformat": 4,
 "nbformat_minor": 2
}
