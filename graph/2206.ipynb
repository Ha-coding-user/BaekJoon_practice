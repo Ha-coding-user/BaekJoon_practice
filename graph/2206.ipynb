{
 "cells": [
  {
   "cell_type": "markdown",
   "metadata": {},
   "source": [
    "# 2206 벽 부수고 이동하기\n",
    "다른 블로그 참조 : O\n",
    "reference:\n",
    "\n",
    "https://data-flower.tistory.com/85"
   ]
  },
  {
   "cell_type": "markdown",
   "metadata": {},
   "source": [
    "### Q)\n",
    "N×M의 행렬로 표현되는 맵이 있다. 맵에서 0은 이동할 수 있는 곳을 나타내고, 1은 이동할 수 없는 벽이 있는 곳을 나타낸다. 당신은 (1, 1)에서 (N, M)의 위치까지 이동하려 하는데, 이때 최단 경로로 이동하려 한다. 최단경로는 맵에서 가장 적은 개수의 칸을 지나는 경로를 말하는데, 이때 시작하는 칸과 끝나는 칸도 포함해서 센다.\n",
    "\n",
    "만약에 이동하는 도중에 한 개의 벽을 부수고 이동하는 것이 좀 더 경로가 짧아진다면, 벽을 한 개 까지 부수고 이동하여도 된다.\n",
    "\n",
    "한 칸에서 이동할 수 있는 칸은 상하좌우로 인접한 칸이다.\n",
    "\n",
    "맵이 주어졌을 때, 최단 경로를 구해 내는 프로그램을 작성하시오."
   ]
  },
  {
   "cell_type": "markdown",
   "metadata": {},
   "source": [
    "### Input)\n",
    "첫째 줄에 N(1 ≤ N ≤ 1,000), M(1 ≤ M ≤ 1,000)이 주어진다. 다음 N개의 줄에 M개의 숫자로 맵이 주어진다. (1, 1)과 (N, M)은 항상 0이라고 가정하자."
   ]
  },
  {
   "cell_type": "markdown",
   "metadata": {},
   "source": [
    "### Output)\n",
    "첫째 줄에 최단 거리를 출력한다. 불가능할 때는 -1을 출력한다."
   ]
  },
  {
   "cell_type": "markdown",
   "metadata": {},
   "source": [
    "### Source Code)"
   ]
  },
  {
   "cell_type": "code",
   "execution_count": null,
   "metadata": {},
   "outputs": [],
   "source": [
    "from collections import deque\n",
    "from sys import stdin\n",
    "input = stdin.readline\n",
    "\n",
    "N, M = map(int, input().split())\n",
    "graph = [list(map(int, input().strip())) for _ in range(N)]\n",
    "visited = [[[0] * 2 for _ in range(M)] for _ in range(N)]\n",
    "\n",
    "dx = [1, -1, 0, 0]\n",
    "dy = [0, 0, 1, -1]\n",
    "\n",
    "def BFS():\n",
    "    queue = deque([])\n",
    "    queue.append((0, 0, 1))\n",
    "    visited[0][0][1] = 1\n",
    "\n",
    "    while queue:\n",
    "        x, y, count = queue.popleft()\n",
    "        if x == N-1 and y == M-1:\n",
    "            return visited[x][y][count]\n",
    "        \n",
    "        for i in range(4):\n",
    "            next_x = x + dx[i]\n",
    "            next_y = y + dy[i]\n",
    "            \n",
    "            # 맵 벗어나면 건너뛰기\n",
    "            if next_x < 0 or next_x >= N or next_y < 0 or next_y >= M:\n",
    "                continue\n",
    "\n",
    "            # 벽 안부수고 이동 - 1\n",
    "            if graph[next_x][next_y] == 0 and visited[next_x][next_y][count] == 0:\n",
    "                visited[next_x][next_y][count] = visited[x][y][count] + 1\n",
    "                queue.append((next_x, next_y, count))\n",
    "            # 벽을 부수고 이동할 때 - 2\n",
    "            if graph[next_x][next_y] == 1 and count == 1:\n",
    "                visited[next_x][next_y][count-1] = visited[x][y][count] + 1\n",
    "                queue.append((next_x, next_y, count-1))\n",
    "\n",
    "    # 불가능할 경우 -1 return\n",
    "    return -1\n",
    "\n",
    "print(BFS())"
   ]
  },
  {
   "cell_type": "markdown",
   "metadata": {},
   "source": [
    "처음엔 1이 있는 곳의 위치를 저장해 반복문을 통해 해당 위치를 불러와 그 부분의 값을 0으로 바꾸고 BFS를 해서 모든 값들을 구해 그 결과의 최소값을 출력하려 했다.\n",
    "그런데 시간 복잡도가 너무 커 시간 초과가 많이 발생해 다른 방법을 찾아야 했다.\n",
    "그래서 사용한 방법이 3차원 배열을 이용하는 것이였다.\n",
    "\n",
    "다른 BFS 문제들과 동일하지만 여기선 벽을 부술수 있는 기회가 1번 있다는 것에 주목을 해야한다.\n",
    "그래서 visited[x][y][count]의 count를 통해 부술 수 있는 기회를 나타냈고 기회가 1번 있을 땐 다음 경로에 1이 있어도 한 번 지나갈 수 있다.(코드의 주석 1)\n",
    "하지만 기회가 아예 없을 땐 무조건 0인 곳만 지나가도록 코드를 작성하였다.(코드의 주석 2)"
   ]
  },
  {
   "cell_type": "markdown",
   "metadata": {},
   "source": [
    "이제 BFS에 대해 점점 이해가 가지만 아직 크게 생각하지 못하는 것 같다...\n",
    "매일 반복해서 여러 문제를 접해야겠다..."
   ]
  },
  {
   "cell_type": "markdown",
   "metadata": {},
   "source": []
  }
 ],
 "metadata": {
  "language_info": {
   "name": "python"
  },
  "orig_nbformat": 4
 },
 "nbformat": 4,
 "nbformat_minor": 2
}
