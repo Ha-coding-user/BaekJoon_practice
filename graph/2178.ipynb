{
 "cells": [
  {
   "cell_type": "markdown",
   "metadata": {},
   "source": [
    "# 2178 미로 탐색\n",
    "다른 블로그 참조 : O\n",
    "\n",
    "reference : https://yuna0125.tistory.com/61"
   ]
  },
  {
   "attachments": {
    "image.png": {
     "image/png": "[encoded data removed]"
    }
   },
   "cell_type": "markdown",
   "metadata": {},
   "source": [
    "### Q)\n",
    "N×M크기의 배열로 표현되는 미로가 있다.\n",
    "\n",
    "![image.png](attachment:image.png)\n",
    "\n",
    "미로에서 1은 이동할 수 있는 칸을 나타내고, 0은 이동할 수 없는 칸을 나타낸다. 이러한 미로가 주어졌을 때, (1, 1)에서 출발하여 (N, M)의 위치로 이동할 때 지나야 하는 최소의 칸 수를 구하는 프로그램을 작성하시오. 한 칸에서 다른 칸으로 이동할 때, 서로 인접한 칸으로만 이동할 수 있다.\n",
    "\n",
    "위의 예에서는 15칸을 지나야 (N, M)의 위치로 이동할 수 있다. 칸을 셀 때에는 시작 위치와 도착 위치도 포함한다."
   ]
  },
  {
   "cell_type": "markdown",
   "metadata": {},
   "source": [
    "### Input)\n",
    "첫째 줄에 두 정수 N, M(2 ≤ N, M ≤ 100)이 주어진다. 다음 N개의 줄에는 M개의 정수로 미로가 주어진다. 각각의 수들은 붙어서 입력으로 주어진다."
   ]
  },
  {
   "cell_type": "markdown",
   "metadata": {},
   "source": [
    "### Output)\n",
    "첫째 줄에 지나야 하는 최소의 칸 수를 출력한다. 항상 도착위치로 이동할 수 있는 경우만 입력으로 주어진다."
   ]
  },
  {
   "cell_type": "markdown",
   "metadata": {},
   "source": [
    "### Source Code)"
   ]
  },
  {
   "cell_type": "code",
   "execution_count": null,
   "metadata": {},
   "outputs": [],
   "source": [
    "from sys import stdin\n",
    "input = stdin.readline\n",
    "\n",
    "N, M = map(int, input().split())\n",
    "graph = []\n",
    "\n",
    "for _ in range(N):\n",
    "    graph.append(list(map(int, input().strip())))\n",
    "\n",
    "dx = [0, 0, 1, -1]\n",
    "dy = [1, -1, 0, 0]\n",
    "\n",
    "result = []\n",
    "\n",
    "def BFS(graph, x, y):\n",
    "    queue = []\n",
    "    queue.append((x, y))\n",
    "\n",
    "    while queue:\n",
    "        x, y = queue.pop(0)\n",
    "\n",
    "        for i in range(4):\n",
    "            now_x = x + dx[i]\n",
    "            now_y = y + dy[i]\n",
    "            if now_x < 0 or now_x >= N or now_y < 0 or now_y >= M:\n",
    "                continue\n",
    "\n",
    "            if graph[now_x][now_y] == 1:\n",
    "                graph[now_x][now_y] = graph[x][y] + 1\n",
    "                queue.append((now_x, now_y))\n",
    "\n",
    "    return graph[N-1][M-1]\n",
    "\n",
    "print(BFS(graph, 0, 0))"
   ]
  },
  {
   "attachments": {
    "image.png": {
     "image/png": "[encoded data removed]"
    }
   },
   "cell_type": "markdown",
   "metadata": {},
   "source": [
    "최단 경로의 길이를 구하는 것이므로 BFS를 이용하였다.\n",
    "\n",
    "1. graph[0][0] 부터 BFS를 이용해 상,하,좌,우를 검사해 1인 값을 찾는다.\n",
    "2. 만약 1이라면 그 전 값에 +1을 하여 이동할 때 지나야 하는 최소 칸 수를 더해준다.\n",
    "3. 마지막에 graph[N-1][M-1]에 최소 칸 수의 값이 들어있게 된다.\n",
    "\n",
    "![image.png](attachment:image.png)\n",
    "\n",
    "첫 값에 3이 들어있는 이유는 첫 칸을 방문했다는 표시를 하지 않고 그대로 1로 두기 때문에 다음 칸으로 이동하고 다시 해당 칸으로 돌아오게 되므로 3이 된다."
   ]
  }
 ],
 "metadata": {
  "language_info": {
   "name": "python"
  },
  "orig_nbformat": 4
 },
 "nbformat": 4,
 "nbformat_minor": 2
}
