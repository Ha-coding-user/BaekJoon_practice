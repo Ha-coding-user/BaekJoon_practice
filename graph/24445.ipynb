{
 "cells": [
  {
   "cell_type": "markdown",
   "metadata": {},
   "source": [
    "# 알고리즘 수업 - 너비 우선 탐색 2\n",
    "다른 블로그 참조 : X"
   ]
  },
  {
   "cell_type": "markdown",
   "metadata": {},
   "source": [
    "### Q)\n",
    "오늘도 서준이는 너비 우선 탐색(BFS) 수업 조교를 하고 있다. 아빠가 수업한 내용을 학생들이 잘 이해했는지 문제를 통해서 확인해보자.\n",
    "\n",
    "N개의 정점과 M개의 간선으로 구성된 무방향 그래프(undirected graph)가 주어진다. 정점 번호는 1번부터 N번이고 모든 간선의 가중치는 1이다. 정점 R에서 시작하여 너비 우선 탐색으로 노드를 방문할 경우 노드의 방문 순서를 출력하자.\n",
    "\n",
    "너비 우선 탐색 의사 코드는 다음과 같다. 인접 정점은 내림차순으로 방문한다."
   ]
  },
  {
   "cell_type": "code",
   "execution_count": null,
   "metadata": {
    "vscode": {
     "languageId": "plaintext"
    }
   },
   "outputs": [],
   "source": [
    "bfs(V, E, R) {  # V : 정점 집합, E : 간선 집합, R : 시작 정점\n",
    "    for each v ∈ V - {R}\n",
    "        visited[v] <- NO;\n",
    "    visited[R] <- YES;  # 시작 정점 R을 방문 했다고 표시한다.\n",
    "    enqueue(Q, R);  # 큐 맨 뒤에 시작 정점 R을 추가한다.\n",
    "    while (Q ≠ ∅) {\n",
    "        u <- dequeue(Q);  # 큐 맨 앞쪽의 요소를 삭제한다.\n",
    "        for each v ∈ E(u)  # E(u) : 정점 u의 인접 정점 집합.(정점 번호를 내림차순으로 방문한다)\n",
    "            if (visited[v] = NO) then {\n",
    "                visited[v] <- YES;  # 정점 v를 방문 했다고 표시한다.\n",
    "                enqueue(Q, v);  # 큐 맨 뒤에 정점 v를 추가한다.\n",
    "            }\n",
    "    }\n",
    "}"
   ]
  },
  {
   "cell_type": "markdown",
   "metadata": {},
   "source": [
    "### Input)\n",
    "첫째 줄에 정점의 수 N (5 ≤ N ≤ 100,000), 간선의 수 M (1 ≤ M ≤ 200,000), 시작 정점 R (1 ≤ R ≤ N)이 주어진다.\n",
    "\n",
    "다음 M개 줄에 간선 정보 u v가 주어지며 정점 u와 정점 v의 가중치 1인 양방향 간선을 나타낸다. (1 ≤ u < v ≤ N, u ≠ v) 모든 간선의 (u, v) 쌍의 값은 서로 다르다."
   ]
  },
  {
   "cell_type": "markdown",
   "metadata": {},
   "source": [
    "### Output)\n",
    "첫째 줄부터 N개의 줄에 정수를 한 개씩 출력한다. i번째 줄에는 정점 i의 방문 순서를 출력한다. 시작 정점의 방문 순서는 1이다. 시작 정점에서 방문할 수 없는 경우 0을 출력한다.\n",
    "\n"
   ]
  },
  {
   "cell_type": "markdown",
   "metadata": {},
   "source": [
    "### Source Code)"
   ]
  },
  {
   "cell_type": "code",
   "execution_count": null,
   "metadata": {},
   "outputs": [],
   "source": [
    "from sys import stdin\n",
    "input = stdin.readline\n",
    "\n",
    "N, M, R = map(int, input().split())\n",
    "graph = [[] for _ in range(N+1)]\n",
    "visited = [False] * (N+1)\n",
    "result = [0] * (N+1)\n",
    "path = []\n",
    "\n",
    "for _ in range(M):\n",
    "    a, b = map(int, input().split())\n",
    "    graph[a].append(b)\n",
    "    graph[b].append(a)\n",
    "\n",
    "for i in range(1, N+1):\n",
    "    graph[i].sort(reverse = True)\n",
    "\n",
    "def BFS(start):\n",
    "    queue = []\n",
    "\n",
    "    visited[start] = True\n",
    "    queue.append(start)\n",
    "\n",
    "    while queue:\n",
    "        u = queue.pop(0)\n",
    "        path.append(u)\n",
    "        for v in graph[u]:\n",
    "            if visited[v] == False:\n",
    "                visited[v] = True\n",
    "                queue.append(v)\n",
    "\n",
    "BFS(R)\n",
    "\n",
    "for idx, node in zip(range(1, N+1), path):\n",
    "    result[node] = idx\n",
    "\n",
    "print(*result[1:], sep='\\n')"
   ]
  },
  {
   "cell_type": "markdown",
   "metadata": {},
   "source": [
    "24444번 문제와 동일하나 차이점은 오름차순, 내림차순의 차이이다."
   ]
  }
 ],
 "metadata": {
  "language_info": {
   "name": "python"
  },
  "orig_nbformat": 4
 },
 "nbformat": 4,
 "nbformat_minor": 2
}
