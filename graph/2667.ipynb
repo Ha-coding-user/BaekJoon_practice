{
 "cells": [
  {
   "cell_type": "markdown",
   "metadata": {},
   "source": [
    "# 2667 단지번호붙이기 ★\n",
    "다른 블로그 참조 : O\n",
    "\n",
    "reference : https://hongcoding.tistory.com/71"
   ]
  },
  {
   "attachments": {
    "image.png": {
     "image/png": "[encoded data removed]"
    }
   },
   "cell_type": "markdown",
   "metadata": {},
   "source": [
    "### Q)\n",
    "<그림 1>과 같이 정사각형 모양의 지도가 있다. 1은 집이 있는 곳을, 0은 집이 없는 곳을 나타낸다. 철수는 이 지도를 가지고 연결된 집의 모임인 단지를 정의하고, 단지에 번호를 붙이려 한다. 여기서 연결되었다는 것은 어떤 집이 좌우, 혹은 아래위로 다른 집이 있는 경우를 말한다. 대각선상에 집이 있는 경우는 연결된 것이 아니다. <그림 2>는 <그림 1>을 단지별로 번호를 붙인 것이다. 지도를 입력하여 단지수를 출력하고, 각 단지에 속하는 집의 수를 오름차순으로 정렬하여 출력하는 프로그램을 작성하시오.\n",
    "\n",
    "![image.png](attachment:image.png)"
   ]
  },
  {
   "cell_type": "markdown",
   "metadata": {},
   "source": [
    "### Input)\n",
    "첫 번째 줄에는 지도의 크기 N(정사각형이므로 가로와 세로의 크기는 같으며 5≤N≤25)이 입력되고, 그 다음 N줄에는 각각 N개의 자료(0혹은 1)가 입력된다."
   ]
  },
  {
   "cell_type": "markdown",
   "metadata": {},
   "source": [
    "### Output)\n",
    "첫 번째 줄에는 총 단지수를 출력하시오. 그리고 각 단지내 집의 수를 오름차순으로 정렬하여 한 줄에 하나씩 출력하시오."
   ]
  },
  {
   "cell_type": "markdown",
   "metadata": {},
   "source": [
    "### Source Code)"
   ]
  },
  {
   "cell_type": "markdown",
   "metadata": {},
   "source": [
    "#### BFS 사용"
   ]
  },
  {
   "cell_type": "code",
   "execution_count": null,
   "metadata": {},
   "outputs": [],
   "source": [
    "from sys import stdin\n",
    "input = stdin.readline\n",
    "\n",
    "N = int(input())\n",
    "\n",
    "dx = [0, 0, 1, -1]\n",
    "dy = [1, -1, 0, 0]\n",
    "\n",
    "def BFS(graph, a, b):\n",
    "    queue = []\n",
    "    queue.append((a, b))\n",
    "    graph[a][b] = 0\n",
    "    count = 1\n",
    "\n",
    "    while queue:\n",
    "        x, y = queue.pop(0)\n",
    "        for i in range(4):\n",
    "            now_x = x + dx[i]\n",
    "            now_y = y + dy[i]\n",
    "            if now_x < 0 or now_x >= N or now_y < 0 or now_y >= N:\n",
    "                continue\n",
    "            if graph[now_x][now_y] == 1:\n",
    "                graph[now_x][now_y] = 0\n",
    "                queue.append((now_x, now_y))\n",
    "                count += 1\n",
    "\n",
    "    return count\n",
    "\n",
    "graph = []\n",
    "for i in range(N):\n",
    "    graph.append(list(map(int, input().strip())))\n",
    "\n",
    "result = []\n",
    "for i in range(N):\n",
    "    for j in range(N):\n",
    "        if graph[i][j] == 1:\n",
    "            result.append(BFS(graph, i, j))\n",
    "\n",
    "result.sort()\n",
    "print(len(result))\n",
    "print(*result, sep='\\n')"
   ]
  },
  {
   "cell_type": "markdown",
   "metadata": {},
   "source": [
    "#### DFS 사용"
   ]
  },
  {
   "cell_type": "code",
   "execution_count": null,
   "metadata": {},
   "outputs": [],
   "source": [
    "import sys\n",
    "from sys import stdin\n",
    "input = stdin.readline\n",
    "sys.setrecursionlimit(10**9)\n",
    "\n",
    "N = int(input())\n",
    "graph = []\n",
    "result = []\n",
    "\n",
    "dx = [0, 0, 1, -1]\n",
    "dy = [1, -1, 0, 0]\n",
    "\n",
    "for _ in range(N):\n",
    "    graph.append(list(map(int, input().strip())))\n",
    "\n",
    "def DFS(a, b):\n",
    "    global count\n",
    "    if a < 0 or a >= N or b < 0 or b >= N:\n",
    "        return False\n",
    "\n",
    "    if graph[a][b] == 1:\n",
    "        count += 1\n",
    "        graph[a][b] = 0\n",
    "        for i in range(4):\n",
    "            now_x = a + dx[i]\n",
    "            now_y = b + dy[i]\n",
    "            DFS(now_x, now_y)\n",
    "        return True\n",
    "    return False\n",
    "\n",
    "for i in range(N):\n",
    "    for j in range(N):\n",
    "        count = 0\n",
    "        if DFS(i,j) == True:\n",
    "            result.append(count)\n",
    "\n",
    "result.sort()\n",
    "print(len(result))\n",
    "print(*result, sep='\\n')"
   ]
  },
  {
   "cell_type": "markdown",
   "metadata": {},
   "source": [
    "문제를 너무 어렵게 생각하지 말자.\n",
    "\n",
    "BFS, DFS 모두 알고리즘만 알면 쉽게 해결할 수 있다.\n",
    "\n",
    "1. BFS\n",
    "    그래프의 탐색 시작점을 모르기 때문에 전체를 돌면서 1인 지점에서 탐색을 시작해야함.\n",
    "    탐색 중 1인 부분은 0으로 바꿔 다시 방문하지 않도록 함.\n",
    "    -> 반복문을 통해 해결\n",
    "\n",
    "2. DFS\n",
    "    큐 대신 재귀를 사용하는데 마찬가지로 시작점을 모르기 때문에 전체를 돌면서 1인 지점에서 탐색을 해야함\n",
    "    recursion임을 꼭 기억하고 조건을 달아줘야 함"
   ]
  }
 ],
 "metadata": {
  "language_info": {
   "name": "python"
  },
  "orig_nbformat": 4
 },
 "nbformat": 4,
 "nbformat_minor": 2
}
