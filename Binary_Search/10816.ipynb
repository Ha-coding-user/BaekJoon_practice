{
 "cells": [
  {
   "cell_type": "markdown",
   "metadata": {},
   "source": [
    "# 숫자 카드 2\n",
    "다른 블로그 참조: X"
   ]
  },
  {
   "cell_type": "markdown",
   "metadata": {},
   "source": [
    "### Q)\n",
    "숫자 카드는 정수 하나가 적혀져 있는 카드이다. 상근이는 숫자 카드 N개를 가지고 있다. 정수 M개가 주어졌을 때, 이 수가 적혀있는 숫자 카드를 상근이가 몇 개 가지고 있는지 구하는 프로그램을 작성하시오."
   ]
  },
  {
   "cell_type": "markdown",
   "metadata": {},
   "source": [
    "### Input)\n",
    "첫째 줄에 상근이가 가지고 있는 숫자 카드의 개수 N(1 ≤ N ≤ 500,000)이 주어진다. 둘째 줄에는 숫자 카드에 적혀있는 정수가 주어진다. 숫자 카드에 적혀있는 수는 -10,000,000보다 크거나 같고, 10,000,000보다 작거나 같다.\n",
    "\n",
    "셋째 줄에는 M(1 ≤ M ≤ 500,000)이 주어진다. 넷째 줄에는 상근이가 몇 개 가지고 있는 숫자 카드인지 구해야 할 M개의 정수가 주어지며, 이 수는 공백으로 구분되어져 있다. 이 수도 -10,000,000보다 크거나 같고, 10,000,000보다 작거나 같다."
   ]
  },
  {
   "cell_type": "markdown",
   "metadata": {},
   "source": [
    "### Output)\n",
    "첫째 줄에 입력으로 주어진 M개의 수에 대해서, 각 수가 적힌 숫자 카드를 상근이가 몇 개 가지고 있는지를 공백으로 구분해 출력한다."
   ]
  },
  {
   "cell_type": "markdown",
   "metadata": {},
   "source": [
    "### Source Code - Binary Search)"
   ]
  },
  {
   "cell_type": "code",
   "execution_count": null,
   "metadata": {},
   "outputs": [],
   "source": [
    "from sys import stdin\n",
    "input = stdin.readline\n",
    "\n",
    "def Binary_Search(card, target, start, end):\n",
    "    if start > end:\n",
    "        return 0\n",
    "    \n",
    "    mid = (start + end) // 2\n",
    "    if card[mid] == target:\n",
    "        return card[start:end+1].count(target)\n",
    "    elif card[mid] < target:\n",
    "        return Binary_Search(card, target, mid+1, end)\n",
    "    else:\n",
    "        return Binary_Search(card, target, start, mid-1)\n",
    "\n",
    "N = int(input())\n",
    "num_card = list(map(int, input().split()))\n",
    "num_card.sort()\n",
    "\n",
    "M = int(input())\n",
    "target_list = list(map(int, input().split()))\n",
    "\n",
    "for target in target_list:\n",
    "    print(Binary_Search(num_card, target, 0, N-1), end = \" \")"
   ]
  },
  {
   "cell_type": "markdown",
   "metadata": {},
   "source": [
    "이분 탐색 알고리즘을 이용해 해결해보려 하였지만 이 방법이 앞에서부터 확인해 dictionary에 값을 넣는 방법보다 느리다..."
   ]
  },
  {
   "cell_type": "markdown",
   "metadata": {},
   "source": [
    "### Source Code - Sequential)"
   ]
  },
  {
   "cell_type": "code",
   "execution_count": null,
   "metadata": {},
   "outputs": [],
   "source": [
    "from sys import stdin\n",
    "input = stdin.readline\n",
    "\n",
    "N = int(input())\n",
    "num_card = list(map(int, input().split()))\n",
    "num_card.sort()\n",
    "\n",
    "M = int(input())\n",
    "target_list = list(map(int, input().split()))\n",
    "\n",
    "result = {}\n",
    "for num in num_card:\n",
    "    if num in result.keys():\n",
    "        result[num] += 1\n",
    "    else:\n",
    "        result[num] = 1\n",
    "\n",
    "for target in target_list:\n",
    "    if target in result.keys():\n",
    "        print(result[target], end = \" \")\n",
    "    else:\n",
    "        print(0, end = \" \")"
   ]
  }
 ],
 "metadata": {
  "language_info": {
   "name": "python"
  },
  "orig_nbformat": 4
 },
 "nbformat": 4,
 "nbformat_minor": 2
}
