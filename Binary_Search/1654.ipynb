{
 "cells": [
  {
   "cell_type": "markdown",
   "metadata": {},
   "source": [
    "# 1654 랜선 자르기 ★\n",
    "다른 블로그 참조 : O\n",
    "\n",
    "reference :\n",
    "https://claude-u.tistory.com/443"
   ]
  },
  {
   "cell_type": "markdown",
   "metadata": {},
   "source": [
    "### Q)\n",
    "집에서 시간을 보내던 오영식은 박성원의 부름을 받고 급히 달려왔다. 박성원이 캠프 때 쓸 N개의 랜선을 만들어야 하는데 너무 바빠서 영식이에게 도움을 청했다.\n",
    "\n",
    "이미 오영식은 자체적으로 K개의 랜선을 가지고 있다. 그러나 K개의 랜선은 길이가 제각각이다. 박성원은 랜선을 모두 N개의 같은 길이의 랜선으로 만들고 싶었기 때문에 K개의 랜선을 잘라서 만들어야 한다. 예를 들어 300cm 짜리 랜선에서 140cm 짜리 랜선을 두 개 잘라내면 20cm는 버려야 한다. (이미 자른 랜선은 붙일 수 없다.)\n",
    "\n",
    "편의를 위해 랜선을 자르거나 만들 때 손실되는 길이는 없다고 가정하며, 기존의 K개의 랜선으로 N개의 랜선을 만들 수 없는 경우는 없다고 가정하자. 그리고 자를 때는 항상 센티미터 단위로 정수길이만큼 자른다고 가정하자. N개보다 많이 만드는 것도 N개를 만드는 것에 포함된다. 이때 만들 수 있는 최대 랜선의 길이를 구하는 프로그램을 작성하시오."
   ]
  },
  {
   "cell_type": "markdown",
   "metadata": {},
   "source": [
    "### Input)\n",
    "첫째 줄에는 오영식이 이미 가지고 있는 랜선의 개수 K, 그리고 필요한 랜선의 개수 N이 입력된다. K는 1이상 10,000이하의 정수이고, N은 1이상 1,000,000이하의 정수이다. 그리고 항상 K ≦ N 이다. 그 후 K줄에 걸쳐 이미 가지고 있는 각 랜선의 길이가 센티미터 단위의 정수로 입력된다. 랜선의 길이는 231-1보다 작거나 같은 자연수이다."
   ]
  },
  {
   "cell_type": "markdown",
   "metadata": {},
   "source": [
    "### Output)\n",
    "첫째 줄에 N개를 만들 수 있는 랜선의 최대 길이를 센티미터 단위의 정수로 출력한다."
   ]
  },
  {
   "cell_type": "markdown",
   "metadata": {},
   "source": [
    "### Source Code)"
   ]
  },
  {
   "cell_type": "code",
   "execution_count": null,
   "metadata": {},
   "outputs": [],
   "source": [
    "from sys import stdin\n",
    "input = stdin.readline\n",
    "\n",
    "N, K = map(int, input().split())\n",
    "line_list = [int(input().strip()) for _ in range(N)]\n",
    "\n",
    "start, end = 1, max(line_list)\n",
    "\n",
    "while start <= end:\n",
    "    mid = (start + end) // 2\n",
    "    lines = 0\n",
    "    for line in line_list:\n",
    "        lines += line // mid\n",
    "\n",
    "    if lines >= K:\n",
    "        start = mid + 1\n",
    "    else:\n",
    "        end = mid - 1\n",
    "\n",
    "print(end)"
   ]
  },
  {
   "cell_type": "markdown",
   "metadata": {},
   "source": [
    "쉽게 생각하면 길이를 1 부터 Lan의 max 값까지 하나씩 돌면서 찾을 수도 있다.\n",
    "하지만 이렇게 찾으면 시간 초과가 날 확률이 높다.\n",
    "\n",
    "따라서, 시간 초과를 방지하기 위해 이분 탐색을 통해 적당한 길이를 찾아보자는 얘기이다.\n",
    "이분 탐색은 반씩 나눠가면서 target을 찾아나가는 과정인데 이 알고리즘을 여기서 적용해 우리가 원하는 target을 찾아보자는 얘기이다.\n",
    "\n",
    "-> 앞의 다른 문제들과의 차이점은 target을 우리가 설정을 해서 target의 유무를 확인하는 것이냐 아니면 target을 찾아내는 것이냐의 차이이다."
   ]
  }
 ],
 "metadata": {
  "language_info": {
   "name": "python"
  },
  "orig_nbformat": 4
 },
 "nbformat": 4,
 "nbformat_minor": 2
}
