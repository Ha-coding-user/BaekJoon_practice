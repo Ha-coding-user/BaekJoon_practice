{
 "cells": [
  {
   "cell_type": "markdown",
   "metadata": {},
   "source": [
    "# 2110 공유기 설치 ★\n",
    "다른 블로그 참조 : O\n",
    "\n",
    "reference : https://hongcoding.tistory.com/3"
   ]
  },
  {
   "cell_type": "markdown",
   "metadata": {},
   "source": [
    "### Q)\n",
    "도현이의 집 N개가 수직선 위에 있다. 각각의 집의 좌표는 x1, ..., xN이고, 집 여러개가 같은 좌표를 가지는 일은 없다.\n",
    "\n",
    "도현이는 언제 어디서나 와이파이를 즐기기 위해서 집에 공유기 C개를 설치하려고 한다. 최대한 많은 곳에서 와이파이를 사용하려고 하기 때문에, 한 집에는 공유기를 하나만 설치할 수 있고, 가장 인접한 두 공유기 사이의 거리를 가능한 크게 하여 설치하려고 한다.\n",
    "\n",
    "C개의 공유기를 N개의 집에 적당히 설치해서, 가장 인접한 두 공유기 사이의 거리를 최대로 하는 프로그램을 작성하시오."
   ]
  },
  {
   "cell_type": "markdown",
   "metadata": {},
   "source": [
    "### Input)\n",
    "첫째 줄에 집의 개수 N (2 ≤ N ≤ 200,000)과 공유기의 개수 C (2 ≤ C ≤ N)이 하나 이상의 빈 칸을 사이에 두고 주어진다. 둘째 줄부터 N개의 줄에는 집의 좌표를 나타내는 xi (0 ≤ xi ≤ 1,000,000,000)가 한 줄에 하나씩 주어진다."
   ]
  },
  {
   "cell_type": "markdown",
   "metadata": {},
   "source": [
    "### Output)\n",
    "첫째 줄에 가장 인접한 두 공유기 사이의 최대 거리를 출력한다."
   ]
  },
  {
   "cell_type": "markdown",
   "metadata": {},
   "source": [
    "### Source Code)"
   ]
  },
  {
   "cell_type": "code",
   "execution_count": null,
   "metadata": {},
   "outputs": [],
   "source": [
    "from sys import stdin\n",
    "input = stdin.readline\n",
    "\n",
    "N, C = map(int, input().split())\n",
    "home = [int(input().strip()) for _ in range(N)]\n",
    "home.sort()\n",
    "\n",
    "start, end = 1, home[-1] - home[0] # 1. 시작값은 최소거리, 끝값은 최대거리\n",
    "\n",
    "while start <= end:\n",
    "    # 2.\n",
    "    mid = (start + end) // 2\n",
    "    current = home[0]\n",
    "    count = 1\n",
    "\n",
    "    # 3.\n",
    "    for i in range(1, len(home)):\n",
    "        if home[i] >= current + mid:\n",
    "            count += 1\n",
    "            current = home[i]\n",
    "\n",
    "    # 4.\n",
    "    if count >= C:\n",
    "        start = mid + 1\n",
    "        answer = mid # 5. \n",
    "    else:\n",
    "        end = mid - 1\n",
    "\n",
    "print(answer)"
   ]
  },
  {
   "cell_type": "markdown",
   "metadata": {},
   "source": [
    "거리를 기준으로 start, end를 잡아준다.\n",
    "1. 즉, start를 가장 짧은 1, end를 가장 긴 home[-1] - home[0]로 잡아준다.\n",
    "\n",
    "2. 그 후 이분 탐색을 통해 mid값을 정해주고 현재 current를 첫 번째 집으로 설정을한다.\n",
    "3. home 배열 내의 모든 값을 지나가면서 home[i] 가 current + mid 값보다 크다면 해당 집에 공유기를 설치하겠다는 의미이고, current를 해당 집으로 바꾸어 주고 count를 1 추가한다.\n",
    "\n",
    "4. 이 count가 C 보다 크거나 같다면 거리를 더 넓게 잡아도 된다는 의미이므로 start를 mid + 1로 설정하고, C 보다 작다면 거리를 더 좁게 잡아야 한다는 의미이므로 end를 mid - 1로 설정한다.\n",
    "5. answer는 마지막 mid값이 될 것이다."
   ]
  },
  {
   "cell_type": "markdown",
   "metadata": {},
   "source": [
    "뭔가 떠오를 것 같은데 자꾸 생각을 멈추어 버린다.\n",
    "그러고는 블로그를 찾으러 가는데 아직 많이 미숙하다는 뜻인거 같다.\n",
    "더 많은 것들을 접하고 찾아보며 실력을 늘려봐야겠다.."
   ]
  }
 ],
 "metadata": {
  "language_info": {
   "name": "python"
  },
  "orig_nbformat": 4
 },
 "nbformat": 4,
 "nbformat_minor": 2
}
