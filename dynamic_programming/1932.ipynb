{
 "cells": [
  {
   "attachments": {},
   "cell_type": "markdown",
   "metadata": {},
   "source": [
    "# 1932 정수 삼각형"
   ]
  },
  {
   "attachments": {
    "image.png": {
     "image/png": "[encoded data removed]"
    }
   },
   "cell_type": "markdown",
   "metadata": {},
   "source": [
    "### Q)\n",
    "![image.png](attachment:image.png)\n",
    "\n",
    "    위 그림은 크기가 5인 정수 삼각형의 한 모습이다.\n",
    "\n",
    "    맨 위층 7부터 시작해서 아래에 있는 수 중 하나를 선택하여 아래층으로 내려올 때, 이제까지 선택된 수의 합이 최대가 되는 경로를 구하는 프로그램을 작성하라. 아래층에 있는 수는 현재 층에서 선택된 수의 대각선 왼쪽 또는 대각선 오른쪽에 있는 것 중에서만 선택할 수 있다.\n",
    "\n",
    "    삼각형의 크기는 1 이상 500 이하이다. 삼각형을 이루고 있는 각 수는 모두 정수이며, 범위는 0 이상 9999 이하이다."
   ]
  },
  {
   "attachments": {},
   "cell_type": "markdown",
   "metadata": {},
   "source": [
    "### Input)\n",
    "    첫째 줄에 삼각형의 크기 n(1 ≤ n ≤ 500)이 주어지고, 둘째 줄부터 n+1번째 줄까지 정수 삼각형이 주어진다."
   ]
  },
  {
   "attachments": {},
   "cell_type": "markdown",
   "metadata": {},
   "source": [
    "### Output)\n",
    "    첫째 줄에 합이 최대가 되는 경로에 있는 수의 합을 출력한다."
   ]
  },
  {
   "attachments": {},
   "cell_type": "markdown",
   "metadata": {},
   "source": [
    "### Source Code)"
   ]
  },
  {
   "cell_type": "code",
   "execution_count": null,
   "metadata": {},
   "outputs": [],
   "source": [
    "from sys import stdin\n",
    "input = stdin.readline\n",
    "\n",
    "n = int(input())\n",
    "triangle = []\n",
    "\n",
    "for i in range(n):\n",
    "    triangle.append(list(map(int, input().split())))\n",
    "\n",
    "for i in range(1, n):\n",
    "    for j in range(len(triangle[i])):\n",
    "        # 삼각형의 변에 있을 경우 - 1\n",
    "        if j == 0:\n",
    "            triangle[i][j] += triangle[i-1][j]\n",
    "        # 삼각형의 변에 있을 경우 - 2\n",
    "        elif j == len(triangle[i])-1:\n",
    "            triangle[i][j] += triangle[i-1][j-1]\n",
    "        # 3\n",
    "        else:\n",
    "            triangle[i][j] += max(triangle[i-1][j-1], triangle[i-1][j])\n",
    "\n",
    "print(max(triangle[n-1]))"
   ]
  },
  {
   "attachments": {
    "image.png": {
     "image/png": "[encoded data removed]"
    }
   },
   "cell_type": "markdown",
   "metadata": {},
   "source": [
    "1912 번 문제와 유사하다. 다만, 삼각형의 구조라는 것에만 차이가 있다.\n",
    "1. 삼각형의 구조로 인해 해당 행에서 index 0의 숫자가 이전의 행에서 선택할 수 있는 숫자는 index 0의 숫자뿐이다\n",
    "2. 마찬가지로 해당 행에서 가장 마지막 숫자가 이전의 행에서 선택할 수 있는 숫자는 가장 마지막 숫자뿐이다.\n",
    "3. 위 경우를 제외하고는 모두 이전의 행에서 자신 기준 왼쪽, 오른쪽 숫자 중 max값을 선택해 더하면 된다. -> 자연스럽게 처음부터 내려오면서 더해지면서 내려오게 된다.\n",
    "\n",
    "이를 다음과 같이 나타낼 수 있다.\n",
    "\n",
    "![image.png](attachment:image.png)"
   ]
  }
 ],
 "metadata": {
  "language_info": {
   "name": "python"
  },
  "orig_nbformat": 4
 },
 "nbformat": 4,
 "nbformat_minor": 2
}
