{
 "cells": [
  {
   "attachments": {},
   "cell_type": "markdown",
   "metadata": {},
   "source": [
    "# 9184 신나는 함수 실행"
   ]
  },
  {
   "attachments": {},
   "cell_type": "markdown",
   "metadata": {},
   "source": [
    "### Q)\n",
    "    재귀 호출만 생각하면 신이 난다! 아닌가요?\n",
    "\n",
    "    다음과 같은 재귀함수 w(a, b, c)가 있다."
   ]
  },
  {
   "cell_type": "code",
   "execution_count": null,
   "metadata": {
    "vscode": {
     "languageId": "plaintext"
    }
   },
   "outputs": [],
   "source": [
    "if a <= 0 or b <= 0 or c <= 0, then w(a, b, c) returns:\n",
    "    1\n",
    "\n",
    "if a > 20 or b > 20 or c > 20, then w(a, b, c) returns:\n",
    "    w(20, 20, 20)\n",
    "\n",
    "if a < b and b < c, then w(a, b, c) returns:\n",
    "    w(a, b, c-1) + w(a, b-1, c-1) - w(a, b-1, c)\n",
    "\n",
    "otherwise it returns:\n",
    "    w(a-1, b, c) + w(a-1, b-1, c) + w(a-1, b, c-1) - w(a-1, b-1, c-1)"
   ]
  },
  {
   "attachments": {},
   "cell_type": "markdown",
   "metadata": {},
   "source": [
    "    위의 함수를 구현하는 것은 매우 쉽다. 하지만, 그대로 구현하면 값을 구하는데 매우 오랜 시간이 걸린다. (예를 들면, a=15, b=15, c=15)\n",
    "\n",
    "    a, b, c가 주어졌을 때, w(a, b, c)를 출력하는 프로그램을 작성하시오."
   ]
  },
  {
   "attachments": {},
   "cell_type": "markdown",
   "metadata": {},
   "source": [
    "### Input)\n",
    "    입력은 세 정수 a, b, c로 이루어져 있으며, 한 줄에 하나씩 주어진다. 입력의 마지막은 -1 -1 -1로 나타내며, 세 정수가 모두 -1인 경우는 입력의 마지막을 제외하면 없다."
   ]
  },
  {
   "attachments": {},
   "cell_type": "markdown",
   "metadata": {},
   "source": [
    "### Output)\n",
    "    입력으로 주어진 각각의 a, b, c에 대해서, w(a, b, c)를 출력한다."
   ]
  },
  {
   "attachments": {},
   "cell_type": "markdown",
   "metadata": {},
   "source": [
    "### Limit)\n",
    "- -50 ≤ a, b, c ≤ 50"
   ]
  },
  {
   "attachments": {},
   "cell_type": "markdown",
   "metadata": {},
   "source": [
    "### Source Code)"
   ]
  },
  {
   "cell_type": "code",
   "execution_count": null,
   "metadata": {},
   "outputs": [],
   "source": [
    "from sys import stdin\n",
    "input = stdin.readline\n",
    "\n",
    "w = [[[1 for _ in range(21)] for _ in range(21)] for _ in range(21)]\n",
    "\n",
    "def w_calc(a, b, c):\n",
    "    if a <= 0 or b <= 0 or c <= 0:\n",
    "        return 1\n",
    "    \n",
    "    # 이 경우 return 이 w[20, 20, 20] 이므로 모두 20으로 설정\n",
    "    if a > 20 or b > 20 or c > 20:\n",
    "        a, b, c = 20, 20, 20\n",
    "\n",
    "    # 찾는 값이 이미 계산이 되어 있는 경우 바로 결과 출력해서 시간 줄임\n",
    "    if w[a][b][c] != 1:\n",
    "        return w[a][b][c]\n",
    "\n",
    "    for i in range(1, a+1):\n",
    "        for j in range(1, b+1):\n",
    "            for k in range(1, c+1):\n",
    "                if i < j and j < k:\n",
    "                    w[i][j][k] = w[i][j][k-1] + w[i][j-1][k-1] - w[i][j-1][k]\n",
    "                else:\n",
    "                    w[i][j][k] = w[i-1][j][k] + w[i-1][j-1][k] + w[i-1][j][k-1] - w[i-1][j-1][k-1]\n",
    "\n",
    "    return w[a][b][c]\n",
    "    \n",
    "\n",
    "a, b, c = list(map(int, input().split()))\n",
    "while a != -1 or b != -1 or c != -1:\n",
    "    result = w_calc(a, b, c)\n",
    "\n",
    "    print(\"w({}, {}, {}) = {}\".format(a, b, c, result))\n",
    "\n",
    "    a, b, c = list(map(int, input().split()))"
   ]
  }
 ],
 "metadata": {
  "language_info": {
   "name": "python"
  },
  "orig_nbformat": 4
 },
 "nbformat": 4,
 "nbformat_minor": 2
}
