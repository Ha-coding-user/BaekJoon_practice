{
 "cells": [
  {
   "attachments": {},
   "cell_type": "markdown",
   "metadata": {},
   "source": [
    "# 1463 1로 만들기"
   ]
  },
  {
   "attachments": {},
   "cell_type": "markdown",
   "metadata": {},
   "source": [
    "### Q)\n",
    "정수 X에 사용할 수 있는 연산은 다음과 같이 세 가지 이다.\n",
    "\n",
    "1. X가 3으로 나누어 떨어지면, 3으로 나눈다.\n",
    "2. X가 2로 나누어 떨어지면, 2로 나눈다.\n",
    "3. 1을 뺀다.\n",
    "정수 N이 주어졌을 때, 위와 같은 연산 세 개를 적절히 사용해서 1을 만들려고 한다. 연산을 사용하는 횟수의 최솟값을 출력하시오."
   ]
  },
  {
   "attachments": {},
   "cell_type": "markdown",
   "metadata": {},
   "source": [
    "### Input)\n",
    "첫째 줄에 1보다 크거나 같고, 106보다 작거나 같은 정수 N이 주어진다."
   ]
  },
  {
   "attachments": {},
   "cell_type": "markdown",
   "metadata": {},
   "source": [
    "### Output)\n",
    "첫째 줄에 연산을 하는 횟수의 최솟값을 출력한다."
   ]
  },
  {
   "attachments": {},
   "cell_type": "markdown",
   "metadata": {},
   "source": [
    "### Source Code)"
   ]
  },
  {
   "cell_type": "code",
   "execution_count": null,
   "metadata": {},
   "outputs": [],
   "source": [
    "from sys import stdin\n",
    "input = stdin.readline\n",
    "\n",
    "N = int(input())\n",
    "dp = [0] * (N+1) # index가 의마하는 것은 해당 숫자를 의미한다.\n",
    "\n",
    "for i in range(2, N+1):\n",
    "    dp[i] = dp[i-1] + 1 # 1\n",
    "    if i % 3 == 0: # 2\n",
    "        dp[i] = min(dp[i], dp[i//3]+1)\n",
    "    if i % 2 == 0: # 3\n",
    "        dp[i] = min(dp[i], dp[i//2] + 1)\n",
    "\n",
    "print(dp[N])"
   ]
  },
  {
   "attachments": {},
   "cell_type": "markdown",
   "metadata": {},
   "source": [
    "이 동적 프로그래밍은 상향식으로 만들었다. 즉, 1에서부터 해당 숫자까지 도달하도록 만든 것이다.\n",
    "\n",
    "dp를 n+1개 만든이유는 index가 해당 숫자를 의미하게 하도록 하기 위해 즉, 나누기가 편하게 만든 것이다. 해당 index에 저장된 숫자는 count를 의미한다.\n",
    "1. 1을 빼는 경우를 생각한 것이다.\n",
    "2. 3으로 나누어진다면 현재 dp 위치에 1을 뺀 경우와 3으로 나눈 경우 중 count가 더 작은 것을 저장한다.\n",
    "3. 2로 나누어질 때도 위와 같이 생각하면 된다.\n",
    "\n",
    "단, if문이 아니라 elif로 작성하게 되면 3가지 경우의 수를 모두 고려하지 못하는 상황이 나오므로 반드시 if문으로 코드를 작성해야한다."
   ]
  }
 ],
 "metadata": {
  "language_info": {
   "name": "python"
  },
  "orig_nbformat": 4
 },
 "nbformat": 4,
 "nbformat_minor": 2
}
