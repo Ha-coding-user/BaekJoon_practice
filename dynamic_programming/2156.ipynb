{
 "cells": [
  {
   "attachments": {},
   "cell_type": "markdown",
   "metadata": {},
   "source": [
    "# 2156 포도주 시식 ★"
   ]
  },
  {
   "attachments": {},
   "cell_type": "markdown",
   "metadata": {},
   "source": [
    "### Q)\n",
    "효주는 포도주 시식회에 갔다. 그 곳에 갔더니, 테이블 위에 다양한 포도주가 들어있는 포도주 잔이 일렬로 놓여 있었다. 효주는 포도주 시식을 하려고 하는데, 여기에는 다음과 같은 두 가지 규칙이 있다.\n",
    "\n",
    "1. 포도주 잔을 선택하면 그 잔에 들어있는 포도주는 모두 마셔야 하고, 마신 후에는 원래 위치에 다시 놓아야 한다.\n",
    "2. 연속으로 놓여 있는 3잔을 모두 마실 수는 없다.\n",
    "효주는 될 수 있는 대로 많은 양의 포도주를 맛보기 위해서 어떤 포도주 잔을 선택해야 할지 고민하고 있다. 1부터 n까지의 번호가 붙어 있는 n개의 포도주 잔이 순서대로 테이블 위에 놓여 있고, 각 포도주 잔에 들어있는 포도주의 양이 주어졌을 때, 효주를 도와 가장 많은 양의 포도주를 마실 수 있도록 하는 프로그램을 작성하시오. \n",
    "\n",
    "예를 들어 6개의 포도주 잔이 있고, 각각의 잔에 순서대로 6, 10, 13, 9, 8, 1 만큼의 포도주가 들어 있을 때, 첫 번째, 두 번째, 네 번째, 다섯 번째 포도주 잔을 선택하면 총 포도주 양이 33으로 최대로 마실 수 있다."
   ]
  },
  {
   "attachments": {},
   "cell_type": "markdown",
   "metadata": {},
   "source": [
    "### Input)\n",
    "첫째 줄에 포도주 잔의 개수 n이 주어진다. (1 ≤ n ≤ 10,000) 둘째 줄부터 n+1번째 줄까지 포도주 잔에 들어있는 포도주의 양이 순서대로 주어진다. 포도주의 양은 1,000 이하의 음이 아닌 정수이다."
   ]
  },
  {
   "attachments": {},
   "cell_type": "markdown",
   "metadata": {},
   "source": [
    "### Output)\n",
    "첫째 줄에 최대로 마실 수 있는 포도주의 양을 출력한다."
   ]
  },
  {
   "attachments": {},
   "cell_type": "markdown",
   "metadata": {},
   "source": [
    "### Source Code)"
   ]
  },
  {
   "cell_type": "code",
   "execution_count": null,
   "metadata": {},
   "outputs": [],
   "source": [
    "from sys import stdin\n",
    "input = stdin.readline\n",
    "\n",
    "n = int(input())\n",
    "wine = []\n",
    "dp = [0] * (n)\n",
    "\n",
    "for i in range(n):\n",
    "    wine.append(int(input()))\n",
    "\n",
    "if n < 3:\n",
    "    print(sum(wine))\n",
    "else:\n",
    "    dp[0] = wine[0]\n",
    "    dp[1] = wine[0] + wine[1]\n",
    "\n",
    "    for i in range(2, n):\n",
    "        dp[i] = max(dp[i-3] + wine[i-1] + wine[i], dp[i-2] + wine[i], dp[i-1])\n",
    "\n",
    "    print(dp[n-1])"
   ]
  },
  {
   "attachments": {},
   "cell_type": "markdown",
   "metadata": {},
   "source": [
    "이 문제는 계단 오르기 문제와 유사하지만 1가지 차이점이 있다.\n",
    "\n",
    "계단 오르기 -> 마지막 계단을 반드시 밟아야 함.\n",
    "포도주 시식 -> 마지막 잔을 마시지 않아도 됨.\n",
    "\n",
    "즉, i번째 포도주를 마시고 i-2번째까지 마신 양, i, i-1 번째 포도주를 마시고 i-3번째까지 마신 양, 그리고 i번째를 마시지 않는 경우를 모두 고려해야한다.\n",
    "\n",
    "따라서 코드에서 max값을 계산할 때 요소로 dp[i-1]을 추가해주어야 한다."
   ]
  }
 ],
 "metadata": {
  "language_info": {
   "name": "python"
  },
  "orig_nbformat": 4
 },
 "nbformat": 4,
 "nbformat_minor": 2
}
