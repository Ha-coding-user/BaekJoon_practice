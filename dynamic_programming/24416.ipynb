{
 "cells": [
  {
   "attachments": {},
   "cell_type": "markdown",
   "metadata": {},
   "source": [
    "# 24416 알고리즘 수업 - 피보나치 수 1"
   ]
  },
  {
   "attachments": {},
   "cell_type": "markdown",
   "metadata": {},
   "source": [
    "# Q)\n",
    "    오늘도 서준이는 동적 프로그래밍 수업 조교를 하고 있다. 아빠가 수업한 내용을 학생들이 잘 이해했는지 문제를 통해서 확인해보자.\n",
    "\n",
    "    오늘은 n의 피보나치 수를 재귀호출과 동적 프로그래밍으로 구하는 알고리즘을 배웠다. 재귀호출에 비해 동적 프로그래밍이 얼마나 빠른지 확인해 보자. 아래 의사 코드를 이용하여 n의 피보나치 수를 구할 경우 코드1 코드2 실행 횟수를 출력하자.\n",
    "\n",
    "    피보나치 수 재귀호출 의사 코드는 다음과 같다."
   ]
  },
  {
   "cell_type": "code",
   "execution_count": null,
   "metadata": {
    "vscode": {
     "languageId": "plaintext"
    }
   },
   "outputs": [],
   "source": [
    "fib(n) {\n",
    "    if ( n = 1 or n = 2)\n",
    "    then return 1; # 코드 1\n",
    "    else return (fib(n - 1) + fib(n - 2));\n",
    "}"
   ]
  },
  {
   "attachments": {},
   "cell_type": "markdown",
   "metadata": {},
   "source": [
    "    피보나치 수 동적 프로그래밍 의사 코드는 다음과 같다."
   ]
  },
  {
   "cell_type": "code",
   "execution_count": null,
   "metadata": {
    "vscode": {
     "languageId": "plaintext"
    }
   },
   "outputs": [],
   "source": [
    "fibonacci(n) {\n",
    "    f[1] <- f[2] <- 1;\n",
    "    for i <- 3 to n\n",
    "        f[i] <- f[i - 1] + f[i - 2]; # 코드 2\n",
    "    return f[n];\n",
    "}"
   ]
  },
  {
   "attachments": {},
   "cell_type": "markdown",
   "metadata": {},
   "source": [
    "### Input)\n",
    "    첫째 줄에 n(5 ≤ n ≤ 40)이 주어진다."
   ]
  },
  {
   "attachments": {},
   "cell_type": "markdown",
   "metadata": {},
   "source": [
    "### Output)\n",
    "    코드1 코드2 실행 횟수를 한 줄에 출력한다."
   ]
  },
  {
   "attachments": {},
   "cell_type": "markdown",
   "metadata": {},
   "source": [
    "### Source Code)"
   ]
  },
  {
   "cell_type": "code",
   "execution_count": null,
   "metadata": {},
   "outputs": [],
   "source": [
    "from sys import stdin\n",
    "input = stdin.readline\n",
    "\n",
    "f = [0, 1, 1]\n",
    "\n",
    "def fib(n):\n",
    "    global result1\n",
    "\n",
    "    if n == 1 or n == 2:\n",
    "        result1 += 1\n",
    "        return 1\n",
    "    \n",
    "    return fib(n-1) + fib(n-2)\n",
    "\n",
    "def fibonacci(n):\n",
    "    global result2\n",
    "\n",
    "    for i in range(3, n+1):\n",
    "        result2 += 1\n",
    "        f.append(f[i-1] + f[i-2])\n",
    "    \n",
    "    return f[n]\n",
    "\n",
    "result1, result2 = 0, 0\n",
    "\n",
    "n = int(input())\n",
    "fib(n)\n",
    "fibonacci(n)\n",
    "\n",
    "print(result1, result2)"
   ]
  },
  {
   "attachments": {},
   "cell_type": "markdown",
   "metadata": {},
   "source": [
    "global 변수를 이용해 계산하면 어렵지 않게 계산할 수 있다."
   ]
  }
 ],
 "metadata": {
  "language_info": {
   "name": "python"
  },
  "orig_nbformat": 4
 },
 "nbformat": 4,
 "nbformat_minor": 2
}
