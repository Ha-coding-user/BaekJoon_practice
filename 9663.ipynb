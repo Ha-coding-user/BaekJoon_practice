{
 "cells": [
  {
   "attachments": {},
   "cell_type": "markdown",
   "metadata": {},
   "source": [
    "# 9663 N-Queen"
   ]
  },
  {
   "attachments": {},
   "cell_type": "markdown",
   "metadata": {},
   "source": [
    "### Q)\n",
    "    N-Queen 문제는 크기가 N x N인 체스판 위에 퀸 N개를 서로 공격할 수 없게 놓는 문제이다.\n",
    "    N이 주어졌을 때, 퀸을 놓는 방법의 수를 구하는 프로그램을 작성하시오."
   ]
  },
  {
   "attachments": {},
   "cell_type": "markdown",
   "metadata": {},
   "source": [
    "### Input)\n",
    "    첫째 줄에 N이 주어진다. (1 <= N < 15)"
   ]
  },
  {
   "attachments": {},
   "cell_type": "markdown",
   "metadata": {},
   "source": [
    "### Output)\n",
    "    첫째 줄에 퀸 N개를 서로 공격할 수 없게 놓는 경우의 수를 출력한다."
   ]
  },
  {
   "cell_type": "code",
   "execution_count": null,
   "metadata": {
    "vscode": {
     "languageId": "plaintext"
    }
   },
   "outputs": [],
   "source": [
    "from sys import stdin\n",
    "input = stdin.readline\n",
    "\n",
    "N = int(input())\n",
    "\n",
    "# col 배열의 index가 행 번호\n",
    "col = [None] * N\n",
    "\n",
    "def promising(idx):\n",
    "    for i in range(idx):\n",
    "        # 같은 열에 위치해 있거나\n",
    "        # 행간의 차와 열간의 차의 값이 같을 때(대각선에 있을 때)\n",
    "        if col[idx] == col[i] or idx - i == abs(col[idx] - col[i]):\n",
    "            return 0\n",
    "    \n",
    "    # 둘 다 해당되지 않을 때\n",
    "    return 1\n",
    "\n",
    "def nqueen(cdx):\n",
    "    global count\n",
    "\n",
    "    # cdx = N 이라는 말은 모든 말이 위치해 있다는 의미\n",
    "    if cdx == N:\n",
    "        count += 1\n",
    "        return\n",
    "    \n",
    "    for i in range(N):\n",
    "        col[cdx] = i # 일단 cdx 행 i 열에 놓아보고\n",
    "        if promising(cdx): # 유망하다면\n",
    "            nqueen(cdx+1) # 다음 행에 위치할 말을 놓는다\n",
    "\n",
    "count = 0\n",
    "nqueen(0)\n",
    "print(count)"
   ]
  }
 ],
 "metadata": {
  "language_info": {
   "name": "python"
  },
  "orig_nbformat": 4
 },
 "nbformat": 4,
 "nbformat_minor": 2
}
