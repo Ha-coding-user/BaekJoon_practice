{
 "cells": [
  {
   "cell_type": "markdown",
   "metadata": {},
   "source": [
    "# 10830 행렬 제곱\n",
    "다른 블로그 참조 : X"
   ]
  },
  {
   "cell_type": "markdown",
   "metadata": {},
   "source": [
    "### Q)\n",
    "크기가 N*N인 행렬 A가 주어진다. 이때, A의 B제곱을 구하는 프로그램을 작성하시오. 수가 매우 커질 수 있으니, A^B의 각 원소를 1,000으로 나눈 나머지를 출력한다."
   ]
  },
  {
   "cell_type": "markdown",
   "metadata": {},
   "source": [
    "### Input)\n",
    "첫째 줄에 행렬의 크기 N과 B가 주어진다. (2 ≤ N ≤  5, 1 ≤ B ≤ 100,000,000,000)\n",
    "\n",
    "둘째 줄부터 N개의 줄에 행렬의 각 원소가 주어진다. 행렬의 각 원소는 1,000보다 작거나 같은 자연수 또는 0이다."
   ]
  },
  {
   "cell_type": "markdown",
   "metadata": {},
   "source": [
    "### Output)\n",
    "첫째 줄부터 N개의 줄에 걸쳐 행렬 A를 B제곱한 결과를 출력한다."
   ]
  },
  {
   "cell_type": "markdown",
   "metadata": {},
   "source": [
    "### Source Code)"
   ]
  },
  {
   "cell_type": "code",
   "execution_count": null,
   "metadata": {},
   "outputs": [],
   "source": [
    "from sys import stdin\n",
    "input = stdin.readline\n",
    "\n",
    "N, B = map(int, input().split())\n",
    "A = [list(map(int, input().split())) for _ in range(N)]\n",
    "# ★\n",
    "for i in range(N):\n",
    "    for j in range(N):\n",
    "        A[i][j] %= 1000\n",
    "\n",
    "def mat_mul(A, B):\n",
    "    res = [[0 for _ in range(N)] for _ in range(N)]\n",
    "    for i in range(N):\n",
    "        for j in range(N):\n",
    "            temp = 0\n",
    "            for k in range(N):\n",
    "                temp += A[i][k] * B[k][j]\n",
    "                temp %= 1000\n",
    "            \n",
    "            res[i][j] = temp\n",
    "\n",
    "    return res\n",
    "\n",
    "def fpow(A, k):\n",
    "    if k == 1:\n",
    "        return A\n",
    "    \n",
    "    x = fpow(A, k//2)\n",
    "    if k % 2 == 0:\n",
    "        return mat_mul(x, x)\n",
    "    else:\n",
    "        return mat_mul(mat_mul(x, x), A)\n",
    "    \n",
    "mat = fpow(A, B)\n",
    "\n",
    "for line in mat:\n",
    "    print(*line)"
   ]
  },
  {
   "cell_type": "markdown",
   "metadata": {},
   "source": [
    "행렬의 거듭제곱과 관련된 문제이다.\n",
    "\n",
    "수의 거듭제곱과 다른 점은 그냥 곱셈 대신 행렬의 곱셈과 관련된 함수를 추가해주어야 한다는 점이다.\n",
    "\n",
    "여기서 중요한 점은 ★ 부분이다.\n",
    "처음에 입력을 받을 때 부터 1000으로 나눈 나머지로 설정해주지 않으면 결과로 1000이 나타나는 경우가 발생한다.\n",
    "\n",
    "따라서 반드시 입력을 받을 때 1000으로 나눈 나머지를 A에 저장해 주어야 한다."
   ]
  }
 ],
 "metadata": {
  "language_info": {
   "name": "python"
  },
  "orig_nbformat": 4
 },
 "nbformat": 4,
 "nbformat_minor": 2
}
