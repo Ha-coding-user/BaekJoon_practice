{
 "cells": [
  {
   "cell_type": "markdown",
   "metadata": {},
   "source": [
    "# 1780 종이의 개수"
   ]
  },
  {
   "cell_type": "markdown",
   "metadata": {},
   "source": [
    "### Q)\n",
    "N×N크기의 행렬로 표현되는 종이가 있다. 종이의 각 칸에는 -1, 0, 1 중 하나가 저장되어 있다. 우리는 이 행렬을 다음과 같은 규칙에 따라 적절한 크기로 자르려고 한다.\n",
    "\n",
    "1. 만약 종이가 모두 같은 수로 되어 있다면 이 종이를 그대로 사용한다.\n",
    "2. (1)이 아닌 경우에는 종이를 같은 크기의 종이 9개로 자르고, 각각의 잘린 종이에 대해서 (1)의 과정을 반복한다.\n",
    "\n",
    "\n",
    "이와 같이 종이를 잘랐을 때, -1로만 채워진 종이의 개수, 0으로만 채워진 종이의 개수, 1로만 채워진 종이의 개수를 구해내는 프로그램을 작성하시오."
   ]
  },
  {
   "cell_type": "markdown",
   "metadata": {},
   "source": [
    "### Input)\n",
    "첫째 줄에 N(1 ≤ N ≤ 37, N은 3k 꼴)이 주어진다. 다음 N개의 줄에는 N개의 정수로 행렬이 주어진다."
   ]
  },
  {
   "cell_type": "markdown",
   "metadata": {},
   "source": [
    "### Output)\n",
    "첫째 줄에 -1로만 채워진 종이의 개수를, 둘째 줄에 0으로만 채워진 종이의 개수를, 셋째 줄에 1로만 채워진 종이의 개수를 출력한다.\n",
    "\n"
   ]
  },
  {
   "cell_type": "markdown",
   "metadata": {},
   "source": [
    "### Source Code)"
   ]
  },
  {
   "cell_type": "code",
   "execution_count": null,
   "metadata": {},
   "outputs": [],
   "source": [
    "from sys import stdin\n",
    "input = stdin.readline\n",
    "\n",
    "N = int(input())\n",
    "paper = [list(map(int, input().split())) for _ in range(N)]\n",
    "result = []\n",
    "\n",
    "def divide_conquer(x, y, N):\n",
    "    color = paper[x][y]\n",
    "    for i in range(x, x+N):\n",
    "        for j in range(y, y+N):\n",
    "            if color != paper[i][j]:\n",
    "                divide_conquer(x, y, N//3)\n",
    "                divide_conquer(x, y+N//3, N//3)\n",
    "                divide_conquer(x, y+N//3*2, N//3)\n",
    "                divide_conquer(x+N//3, y, N//3)\n",
    "                divide_conquer(x+N//3, y+N//3, N//3)\n",
    "                divide_conquer(x+N//3, y+N//3*2, N//3)\n",
    "                divide_conquer(x+N//3*2, y, N//3)\n",
    "                divide_conquer(x+N//3*2, y+N//3, N//3)\n",
    "                divide_conquer(x+N//3*2, y+N//3*2, N//3)\n",
    "                return\n",
    "            \n",
    "    if color == -1:\n",
    "        result.append(-1)\n",
    "    elif color == 0:\n",
    "        result.append(0)\n",
    "    else:\n",
    "        result.append(1)\n",
    "\n",
    "divide_conquer(0, 0, N)\n",
    "print(result.count(-1))\n",
    "print(result.count(0))\n",
    "print(result.count(1))"
   ]
  },
  {
   "cell_type": "markdown",
   "metadata": {},
   "source": [
    "이 문제는 다음 문제들과 동일하다.\n",
    "1. 1992 쿼드 트리 : https://github.com/Ha-coding-user/BaekJoon_practice/blob/main/divide_conquer/1992.ipynb\n",
    "2. 2630 색종이 만들기 : https://github.com/Ha-coding-user/BaekJoon_practice/blob/main/divide_conquer/2630.ipynb"
   ]
  }
 ],
 "metadata": {
  "language_info": {
   "name": "python"
  },
  "orig_nbformat": 4
 },
 "nbformat": 4,
 "nbformat_minor": 2
}
