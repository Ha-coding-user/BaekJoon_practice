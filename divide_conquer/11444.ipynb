{
 "cells": [
  {
   "cell_type": "markdown",
   "metadata": {},
   "source": [
    "# 11444 피보나치 수 6\n",
    "다른 블로그 참조 : X"
   ]
  },
  {
   "cell_type": "markdown",
   "metadata": {},
   "source": [
    "### Q)\n",
    "피보나치 수는 0과 1로 시작한다. 0번째 피보나치 수는 0이고, 1번째 피보나치 수는 1이다. 그 다음 2번째 부터는 바로 앞 두 피보나치 수의 합이 된다.\n",
    "\n",
    "이를 식으로 써보면 Fn = Fn-1 + Fn-2 (n ≥ 2)가 된다.\n",
    "\n",
    "n=17일때 까지 피보나치 수를 써보면 다음과 같다.\n",
    "\n",
    "0, 1, 1, 2, 3, 5, 8, 13, 21, 34, 55, 89, 144, 233, 377, 610, 987, 1597\n",
    "\n",
    "n이 주어졌을 때, n번째 피보나치 수를 구하는 프로그램을 작성하시오."
   ]
  },
  {
   "cell_type": "markdown",
   "metadata": {},
   "source": [
    "### Input)\n",
    "첫째 줄에 n이 주어진다. n은 1,000,000,000,000,000,000보다 작거나 같은 자연수이다."
   ]
  },
  {
   "cell_type": "markdown",
   "metadata": {},
   "source": [
    "### Output)\n",
    "첫째 줄에 n번째 피보나치 수를 1,000,000,007으로 나눈 나머지를 출력한다."
   ]
  },
  {
   "cell_type": "markdown",
   "metadata": {},
   "source": [
    "### Source Code)"
   ]
  },
  {
   "cell_type": "code",
   "execution_count": null,
   "metadata": {},
   "outputs": [],
   "source": [
    "from sys import stdin\n",
    "input = stdin.readline\n",
    "\n",
    "A = [[0, 1], [1, 1]]\n",
    "n = int(input())\n",
    "\n",
    "def mat_mul(A, B):\n",
    "    res = [[0, 0], [0, 0]]\n",
    "    for i in range(2):\n",
    "        for j in range(2):\n",
    "            temp = 0\n",
    "            for k in range(2):\n",
    "                temp += A[i][k] * B[k][j]\n",
    "                temp %= 1000000007\n",
    "\n",
    "            res[i][j] = temp\n",
    "    return res\n",
    "\n",
    "def fpow(A, n):\n",
    "    if n == 1:\n",
    "        return A\n",
    "    \n",
    "    x = fpow(A, n//2)\n",
    "    if n % 2 == 0:\n",
    "        return mat_mul(x, x)\n",
    "    else:\n",
    "        return mat_mul(mat_mul(x, x), A)\n",
    "    \n",
    "result = fpow(A, n)[0][1]\n",
    "\n",
    "print(result)"
   ]
  },
  {
   "attachments": {
    "image.png": {
     "image/png": "[encoded data removed]"
    }
   },
   "cell_type": "markdown",
   "metadata": {},
   "source": [
    "피보나치 수열을 구하는 일반적인 문제지만 분할 정복 알고리즘을 사용해 계산했다.\n",
    "\n",
    "![image.png](attachment:image.png)\n",
    "\n",
    "위 식을 이용하여 n번째 피보나치 수열의 값을 구할 수 있다."
   ]
  }
 ],
 "metadata": {
  "language_info": {
   "name": "python"
  },
  "orig_nbformat": 4
 },
 "nbformat": 4,
 "nbformat_minor": 2
}
